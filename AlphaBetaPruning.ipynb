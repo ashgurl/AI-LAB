{
  "nbformat": 4,
  "nbformat_minor": 0,
  "metadata": {
    "colab": {
      "provenance": []
    },
    "kernelspec": {
      "name": "python3",
      "display_name": "Python 3"
    },
    "language_info": {
      "name": "python"
    }
  },
  "cells": [
    {
      "cell_type": "code",
      "execution_count": 2,
      "metadata": {
        "colab": {
          "base_uri": "https://localhost:8080/"
        },
        "id": "PkWx43rlT5_c",
        "outputId": "32c46490-1534-44e5-8677-f696e5874e4f"
      },
      "outputs": [
        {
          "output_type": "stream",
          "name": "stdout",
          "text": [
            "Enter the values of leaf nodes separated by spaces:\n",
            "10 9 14 8 5 4 50 3\n",
            "The optimal value determined by Alpha-Beta Pruning is: 10\n"
          ]
        }
      ],
      "source": [
        "import math\n",
        "\n",
        "# Alpha-Beta Pruning Algorithm\n",
        "def alpha_beta_search(depth, index, is_max, values, alpha, beta, target_depth):\n",
        "    \"\"\"Recursive function for Alpha-Beta Pruning.\"\"\"\n",
        "    # Base case: If the target depth is reached, return the leaf node value\n",
        "    if depth == target_depth:\n",
        "        return values[index]\n",
        "\n",
        "    if is_max:\n",
        "        # Maximizer's turn\n",
        "        best = -math.inf\n",
        "        for i in range(2):\n",
        "            val = alpha_beta_search(depth + 1, index * 2 + i, False, values, alpha, beta, target_depth)\n",
        "            best = max(best, val)\n",
        "            alpha = max(alpha, best)\n",
        "            if beta <= alpha:\n",
        "                break  # Prune remaining branches\n",
        "        return best\n",
        "    else:\n",
        "        # Minimizer's turn\n",
        "        best = math.inf\n",
        "        for i in range(2):\n",
        "            val = alpha_beta_search(depth + 1, index * 2 + i, True, values, alpha, beta, target_depth)\n",
        "            best = min(best, val)\n",
        "            beta = min(beta, best)\n",
        "            if beta <= alpha:\n",
        "                break  # Prune remaining branches\n",
        "        return best\n",
        "\n",
        "def main():\n",
        "    # User Input: Values of leaf nodes\n",
        "    print(\"Enter the values of leaf nodes separated by spaces:\")\n",
        "    values = list(map(int, input().split()))\n",
        "\n",
        "    # Calculate depth of the game tree\n",
        "    target_depth = math.log2(len(values))\n",
        "    if target_depth != int(target_depth):\n",
        "        print(\"Error: The number of leaf nodes must be a power of 2.\")\n",
        "        return\n",
        "    target_depth = int(target_depth)\n",
        "\n",
        "    # Run Alpha-Beta Pruning\n",
        "    result = alpha_beta_search(0, 0, True, values, -math.inf, math.inf, target_depth)\n",
        "\n",
        "    # Display the result\n",
        "    print(f\"The optimal value determined by Alpha-Beta Pruning is: {result}\")\n",
        "\n",
        "if __name__ == \"__main__\":\n",
        "    main()"
      ]
    }
  ]
}
