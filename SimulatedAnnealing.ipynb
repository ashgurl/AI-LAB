{
  "nbformat": 4,
  "nbformat_minor": 0,
  "metadata": {
    "colab": {
      "provenance": []
    },
    "kernelspec": {
      "name": "python3",
      "display_name": "Python 3"
    },
    "language_info": {
      "name": "python"
    }
  },
  "cells": [
    {
      "cell_type": "code",
      "execution_count": 2,
      "metadata": {
        "colab": {
          "base_uri": "https://localhost:8080/"
        },
        "id": "2wPH7eLjan4o",
        "outputId": "5cf89ee4-e768-4003-c9d0-e67fae3de282"
      },
      "outputs": [
        {
          "output_type": "stream",
          "name": "stdout",
          "text": [
            "Enter the number of queens: 8\n",
            "Best state: [2, 5, 1, 4, 7, 0, 6, 3]\n",
            "Best cost: 0\n"
          ]
        }
      ],
      "source": [
        "import random\n",
        "import math\n",
        "\n",
        "def initial_state(n):\n",
        "    return [random.randint(0, n-1) for _ in range(n)]\n",
        "\n",
        "def cost_function(state):\n",
        "    n = len(state)\n",
        "    cost = 0\n",
        "    for i in range(n):\n",
        "        for j in range(i+1, n):\n",
        "            if state[i] == state[j] or abs(state[i] - state[j]) == abs(i - j):\n",
        "                cost += 1\n",
        "    return cost\n",
        "\n",
        "def generate_neighbor(state):\n",
        "    n = len(state)\n",
        "    neighbor = state.copy()\n",
        "    queen_index = random.randint(0, n-1)\n",
        "    new_row = random.randint(0, n-1)\n",
        "    neighbor[queen_index] = new_row\n",
        "    return neighbor\n",
        "\n",
        "def simulated_annealing(initial_state, temperature, cooling_rate, iterations):\n",
        "    current_state = initial_state\n",
        "    current_cost = cost_function(current_state)\n",
        "    best_state = current_state\n",
        "    best_cost = current_cost\n",
        "\n",
        "    for _ in range(iterations):\n",
        "        neighbor_state = generate_neighbor(current_state)\n",
        "        neighbor_cost = cost_function(neighbor_state)\n",
        "\n",
        "        delta_cost = neighbor_cost - current_cost\n",
        "        if delta_cost < 0 or random.random() < math.exp(-delta_cost / temperature):\n",
        "            current_state = neighbor_state\n",
        "            current_cost = neighbor_cost\n",
        "\n",
        "        if current_cost < best_cost:\n",
        "            best_state = current_state\n",
        "            best_cost = current_cost\n",
        "\n",
        "        temperature *= cooling_rate\n",
        "\n",
        "    return best_state, best_cost\n",
        "\n",
        "if __name__ == \"__main__\":\n",
        "    n = int(input(\"Enter the number of queens: \"))\n",
        "    initial_temp = 100\n",
        "    cooling_rate = 0.95\n",
        "    iterations = 10000\n",
        "\n",
        "    best_state, best_cost = simulated_annealing(initial_state(n), initial_temp, cooling_rate, iterations)\n",
        "\n",
        "    print(\"Best state:\", best_state)\n",
        "    print(\"Best cost:\", best_cost)"
      ]
    }
  ]
}