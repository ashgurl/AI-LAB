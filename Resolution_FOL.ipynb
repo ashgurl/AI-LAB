{
  "nbformat": 4,
  "nbformat_minor": 0,
  "metadata": {
    "colab": {
      "provenance": []
    },
    "kernelspec": {
      "name": "python3",
      "display_name": "Python 3"
    },
    "language_info": {
      "name": "python"
    }
  },
  "cells": [
    {
      "cell_type": "code",
      "execution_count": 9,
      "metadata": {
        "colab": {
          "base_uri": "https://localhost:8080/"
        },
        "id": "qDUjl7WjQM60",
        "outputId": "a770b25e-fca3-4471-bfe7-b77ee7fbfdaf"
      },
      "outputs": [
        {
          "output_type": "stream",
          "name": "stdout",
          "text": [
            "Empty clause derived. Query is proved.\n"
          ]
        },
        {
          "output_type": "execute_result",
          "data": {
            "text/plain": [
              "True"
            ]
          },
          "metadata": {},
          "execution_count": 9
        }
      ],
      "source": [
        "class Clause:\n",
        "    def __init__(self, literals):\n",
        "        self.literals = set(literals)\n",
        "\n",
        "    def __repr__(self):\n",
        "        return str(self.literals)\n",
        "\n",
        "    def __eq__(self, other):\n",
        "        return self.literals == other.literals\n",
        "\n",
        "    def __hash__(self):\n",
        "        return hash(frozenset(self.literals))\n",
        "\n",
        "def resolve(clause1, clause2):\n",
        "    for literal1 in clause1.literals:\n",
        "        negated_literal1 = literal1[1:] if literal1.startswith('¬') else '¬' + literal1\n",
        "        for literal2 in clause2.literals:\n",
        "            if literal2 == negated_literal1:\n",
        "                new_literals = (clause1.literals | clause2.literals) - {literal1, literal2}\n",
        "                return Clause(new_literals)\n",
        "    return None\n",
        "\n",
        "def resolution(kb, query):\n",
        "    negated_query = Clause([f'¬{literal}' for literal in query.literals])\n",
        "    clauses = kb + [negated_query]\n",
        "    new_clauses = set()\n",
        "\n",
        "    while True:\n",
        "        for i in range(len(clauses)):\n",
        "            for j in range(i + 1, len(clauses)):\n",
        "                resolvent = resolve(clauses[i], clauses[j])\n",
        "                if resolvent and resolvent not in clauses and resolvent not in new_clauses:\n",
        "                    new_clauses.add(resolvent)\n",
        "                    if not resolvent.literals:\n",
        "                        print(\"Empty clause derived. Query is proved.\")\n",
        "                        return True\n",
        "\n",
        "        if not new_clauses:\n",
        "            break\n",
        "\n",
        "        clauses.extend(new_clauses)\n",
        "        new_clauses.clear()\n",
        "\n",
        "    print(\"Query cannot be proved.\")\n",
        "    return False\n",
        "\n",
        "# Example usage:\n",
        "kb = [\n",
        "    Clause(['¬P', 'Q']),\n",
        "    Clause(['P', 'R']),\n",
        "    Clause(['¬R'])\n",
        "]\n",
        "\n",
        "query = Clause(['Q'])\n",
        "\n",
        "resolution(kb, query)"
      ]
    }
  ]
}