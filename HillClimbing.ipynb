{
  "nbformat": 4,
  "nbformat_minor": 0,
  "metadata": {
    "colab": {
      "provenance": []
    },
    "kernelspec": {
      "name": "python3",
      "display_name": "Python 3"
    },
    "language_info": {
      "name": "python"
    }
  },
  "cells": [
    {
      "cell_type": "code",
      "source": [
        "def generate_all_configurations(initial_state):\n",
        "  \"\"\"Generates all possible configurations for placing queens on a chessboard, starting from an initial state.\n",
        "\n",
        "  Args:\n",
        "    initial_state: A list representing the initial placement of queens on the board.\n",
        "\n",
        "  Returns:\n",
        "    A list of all possible configurations, where each configuration is represented as a list of length n,\n",
        "    where the i-th element indicates the column of the queen in the i-th row.\n",
        "  \"\"\"\n",
        "\n",
        "  def generate_configurations_helper(row, board, solutions):\n",
        "    if row == len(initial_state):\n",
        "      solutions.append(list(board))\n",
        "      return\n",
        "\n",
        "    for col in range(len(initial_state)):\n",
        "      if is_safe(row, col, board):\n",
        "        board[row] = col\n",
        "        generate_configurations_helper(row + 1, board, solutions)\n",
        "        board[row] = None\n",
        "\n",
        "  def is_safe(row, col, board):\n",
        "    for i in range(row):\n",
        "      if board[i] == col or abs(board[i] - col) == row - i:\n",
        "        return False\n",
        "    return True\n",
        "\n",
        "  def calculate_heuristic(board):\n",
        "    conflicts = 0\n",
        "    for i in range(len(board)):\n",
        "      for j in range(i + 1, len(board)):\n",
        "        if board[i] == board[j] or abs(board[i] - board[j]) == i - j:\n",
        "          conflicts += 1\n",
        "    return conflicts\n",
        "\n",
        "  solutions = []\n",
        "  board = list(initial_state)\n",
        "  generate_configurations_helper(0, board, solutions)\n",
        "\n",
        "  # Find the configuration with a heuristic value of 0\n",
        "  for configuration in solutions:\n",
        "    heuristic = calculate_heuristic(configuration)\n",
        "    if heuristic == 0:\n",
        "      print(\"Solution found:\")\n",
        "      print(configuration)\n",
        "      return\n",
        "\n",
        "  print(\"No solution found.\")\n",
        "\n",
        "# Get the initial state from the user\n",
        "initial_state = input(\"Enter the initial state (e.g., 0 2 1 3): \").split()\n",
        "initial_state = [int(x) for x in initial_state]\n",
        "\n",
        "# Generate all possible configurations and find the solution\n",
        "generate_all_configurations(initial_state)"
      ],
      "metadata": {
        "colab": {
          "base_uri": "https://localhost:8080/"
        },
        "id": "MEtnnHnbyMoZ",
        "outputId": "9550eca7-1f5e-47bf-bbcc-1663fe0c3074"
      },
      "execution_count": null,
      "outputs": [
        {
          "output_type": "stream",
          "name": "stdout",
          "text": [
            "Enter the initial state (e.g., 0 2 1 3): 3 1 2 0\n",
            "Solution found:\n",
            "[1, 3, 0, 2]\n"
          ]
        }
      ]
    }
  ]
}