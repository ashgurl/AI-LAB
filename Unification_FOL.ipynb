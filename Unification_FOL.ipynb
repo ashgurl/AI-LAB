{
  "nbformat": 4,
  "nbformat_minor": 0,
  "metadata": {
    "colab": {
      "provenance": []
    },
    "kernelspec": {
      "name": "python3",
      "display_name": "Python 3"
    },
    "language_info": {
      "name": "python"
    }
  },
  "cells": [
    {
      "cell_type": "code",
      "source": [
        "class UnificationError(Exception):\n",
        "    pass\n",
        "\n",
        "def unify(expr1, expr2, substitutions=None):\n",
        "    if substitutions is None:\n",
        "        substitutions = {}\n",
        "\n",
        "    # If both expressions are identical, return current substitutions\n",
        "    if expr1 == expr2:\n",
        "        return substitutions\n",
        "\n",
        "    # If the first expression is a variable\n",
        "    if is_variable(expr1):\n",
        "        return unify_variable(expr1, expr2, substitutions)\n",
        "\n",
        "    # If the second expression is a variable\n",
        "    if is_variable(expr2):\n",
        "        return unify_variable(expr2, expr1, substitutions)\n",
        "\n",
        "    # If both expressions are compound expressions\n",
        "    if is_compound(expr1) and is_compound(expr2):\n",
        "        if expr1[0] != expr2[0] or len(expr1[1:]) != len(expr2[1:]):\n",
        "            raise UnificationError(\"Expressions do not match.\")\n",
        "        return unify_lists(expr1[1:], expr2[1:], unify(expr1[0], expr2[0], substitutions))\n",
        "\n",
        "    # If expressions are not compatible\n",
        "    raise UnificationError(f\"Cannot unify {expr1} and {expr2}.\")\n",
        "\n",
        "def unify_variable(var, expr, substitutions):\n",
        "    if var in substitutions:\n",
        "        return unify(substitutions[var], expr, substitutions)\n",
        "    elif occurs_check(var, expr, substitutions):\n",
        "        raise UnificationError(f\"Occurs check failed: {var} in {expr}.\")\n",
        "    else:\n",
        "        substitutions[var] = expr\n",
        "        return substitutions\n",
        "\n",
        "def unify_lists(list1, list2, substitutions):\n",
        "    for expr1, expr2 in zip(list1, list2):\n",
        "        substitutions = unify(expr1, expr2, substitutions)\n",
        "    return substitutions\n",
        "\n",
        "def is_variable(term):\n",
        "    return isinstance(term, str) and term[0].islower()\n",
        "\n",
        "def is_compound(term):\n",
        "    return isinstance(term, (list, tuple)) and len(term) > 0\n",
        "\n",
        "def occurs_check(var, expr, substitutions):\n",
        "    if var == expr:\n",
        "        return True\n",
        "    elif is_compound(expr):\n",
        "        return any(occurs_check(var, sub, substitutions) for sub in expr)\n",
        "    elif expr in substitutions:\n",
        "        return occurs_check(var, substitutions[expr], substitutions)\n",
        "    return False\n",
        "def get_user_input():\n",
        "    expr1_str = input(\"Enter the first expression: \")\n",
        "    expr2_str = input(\"Enter the second expression: \")\n",
        "\n",
        "    # Convert input strings to Python lists representing expressions\n",
        "    def parse_expr(expr_str):\n",
        "        expr_str = expr_str.replace(\"(\", \"[\").replace(\")\", \"]\")\n",
        "        return eval(expr_str)\n",
        "\n",
        "    expr1 = parse_expr(expr1_str)\n",
        "    expr2 = parse_expr(expr2_str)\n",
        "\n",
        "    return expr1, expr2\n",
        "\n",
        "if __name__ == \"__main__\":\n",
        "    try:\n",
        "        expr1, expr2 = get_user_input()\n",
        "        result = unify(expr1, expr2)\n",
        "        print(\"Unified substitutions:\", result)\n",
        "    except UnificationError as e:\n",
        "        print(\"Unification failed:\", e)"
      ],
      "metadata": {
        "colab": {
          "base_uri": "https://localhost:8080/"
        },
        "id": "i7OFIoYUHijg",
        "outputId": "a82ebd03-e474-40dd-b7a4-948fa4a57f8a"
      },
      "execution_count": 14,
      "outputs": [
        {
          "output_type": "stream",
          "name": "stdout",
          "text": [
            "Enter the first expression: (\"Knows\", \"John\", \"x\")\n",
            "Enter the second expression: (\"Knows\", \"x\", \"Elizabeth\")\n",
            "Unification failed: Cannot unify John and Elizabeth.\n"
          ]
        }
      ]
    }
  ]
}